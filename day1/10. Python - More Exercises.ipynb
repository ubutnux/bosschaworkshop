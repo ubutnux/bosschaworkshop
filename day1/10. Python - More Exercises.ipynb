{
 "cells": [
  {
   "cell_type": "markdown",
   "metadata": {},
   "source": [
    "## Q 1: Pascal's triangle\n",
    "\n",
    "Pascal's triangle is created such that each layer has 1 more element than the previous, with `1`s on the side and in the interior, the numbers are the sum of the two above it, e.g.,:\n",
    "```\n",
    "            1\n",
    "          1   1\n",
    "        1   2   1\n",
    "      1   3   3   1\n",
    "    1   4   6   4   1\n",
    "  1   5   10  10  5   1\n",
    "```\n",
    "\n",
    "Write a function to return the first `n` rows of Pascal's triangle.  The return should be a list of length `n`, with each element itself a list containing the numbers for that row.\n",
    "\n",
    "<span class=\"fa fa-star\" /> If you want to add complexity, write a function to print out Pascal's triangle with proper formatting, so the numbers in each row are centered between the ones in the row above"
   ]
  },
  {
   "cell_type": "code",
   "execution_count": null,
   "metadata": {},
   "outputs": [],
   "source": []
  },
  {
   "cell_type": "markdown",
   "metadata": {},
   "source": [
    "## Q 2: Panagrams\n",
    "\n",
    "A _panagram_ is a sentence that includes all 26 letters of the alphabet, e.g., \"_The quick brown fox jumps over the lazy dog_.\"\n",
    "\n",
    "Write a function that takes as an argument a sentence and returns `True` or `False`, indicating whether the sentence is a panagram."
   ]
  },
  {
   "cell_type": "code",
   "execution_count": null,
   "metadata": {},
   "outputs": [],
   "source": []
  },
  {
   "cell_type": "markdown",
   "metadata": {},
   "source": [
    "## Q 3: Math practice\n",
    "\n",
    "We want to make a simple table of trigonometric functions for different angles.  Write a code that outputs in columns, the following data:\n",
    "```\n",
    "angle (degrees)    angle (radians)     sin(angle)     cos(angle)    sin(angle)**2 + cos(angle)**2\n",
    "```\n",
    "\n",
    "For all angles spaced 30 degrees apart in the range 0 to 360 degrees.\n",
    "\n",
    "Keep in mind that the trig functions expect the input in radians."
   ]
  },
  {
   "cell_type": "code",
   "execution_count": null,
   "metadata": {},
   "outputs": [],
   "source": []
  },
  {
   "cell_type": "markdown",
   "metadata": {},
   "source": [
    "## Q 4: Monte Carlo Simulation for Estimating $\\pi$\n",
    "\n",
    "\n",
    "If a circle of radius $R$ is inscribed inside a square with side length $2R$, then the area of the circle will be $\\pi R^2$ and the area of the square will be $4R^2$. So the ratio of the area of the circle to the area of the square will be $\\frac{\\pi}{4}$.\n",
    "\n",
    "This means that, if you pick $N$ points at random inside the square, approximately $N \\frac{\\pi}{4}$ of those points should fall inside the circle.\n",
    "     \n",
    "If we pick points at random inside the square, then check to see if the point is inside the circle using $x^2 + y^2 < R^2$, where $x$ and $y$ are the coordinates of the point and $R$ is the radius of the circle). If we keep track of how many points we picked so far (N) and how many of those points fell inside the circle (M), $ \\pi $ is then approximated as follows:\n",
    "\n",
    "$$ \\pi = \\frac{4M}{N} $$\n",
    "\n",
    "Hint: `random()` function in `random` package might be usefull. Use `math.sqrt` to find square root"
   ]
  },
  {
   "cell_type": "code",
   "execution_count": null,
   "metadata": {
    "collapsed": true
   },
   "outputs": [],
   "source": []
  },
  {
   "cell_type": "code",
   "execution_count": null,
   "metadata": {},
   "outputs": [],
   "source": []
  }
 ],
 "metadata": {
  "kernelspec": {
   "display_name": "Python 3",
   "language": "python",
   "name": "python3"
  },
  "language_info": {
   "codemirror_mode": {
    "name": "ipython",
    "version": 3
   },
   "file_extension": ".py",
   "mimetype": "text/x-python",
   "name": "python",
   "nbconvert_exporter": "python",
   "pygments_lexer": "ipython3",
   "version": "3.7.2"
  }
 },
 "nbformat": 4,
 "nbformat_minor": 2
}
