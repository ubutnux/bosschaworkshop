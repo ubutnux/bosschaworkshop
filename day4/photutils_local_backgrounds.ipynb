{
 "cells": [
  {
   "cell_type": "markdown",
   "metadata": {},
   "source": [
    "<img src=\"data/photutils_banner.svg\" width=500 alt=\"Photutils logo\">"
   ]
  },
  {
   "cell_type": "markdown",
   "metadata": {},
   "source": [
    "# Photutils\n",
    "\n",
    "- Code: https://github.com/astropy/photutils\n",
    "- Documentation: http://photutils.readthedocs.org/en/stable/\n",
    "- Issue Tracker:  https://github.com/astropy/photutils/issues\n",
    "\n",
    "## Photutils capabilities:\n",
    "\n",
    "- Background and background noise estimation\n",
    "- Source Detection and Extraction\n",
    "  - DAOFIND and IRAF's starfind\n",
    "  - Image segmentation\n",
    "  - local peak finder\n",
    "- Aperture photometry\n",
    "- PSF photometry\n",
    "- PSF matching\n",
    "- Centroids\n",
    "- Morphological properties\n",
    "- Elliptical isophote analysis\n",
    "\n",
    "\n",
    "## In this additional notebook, we will review:\n",
    "\n",
    "- Background and background noise estimation\n",
    "\n",
    "---"
   ]
  },
  {
   "cell_type": "markdown",
   "metadata": {},
   "source": [
    "# Local Background Subtraction in Photutils"
   ]
  },
  {
   "cell_type": "markdown",
   "metadata": {},
   "source": [
    "## Preliminaries"
   ]
  },
  {
   "cell_type": "code",
   "execution_count": null,
   "metadata": {
    "slideshow": {
     "slide_type": "slide"
    }
   },
   "outputs": [],
   "source": [
    "# initial imports\n",
    "import numpy as np\n",
    "import matplotlib.pyplot as plt\n",
    "\n",
    "# change some default plotting parameters\n",
    "import matplotlib as mpl\n",
    "mpl.rcParams['image.origin'] = 'lower'\n",
    "mpl.rcParams['image.interpolation'] = 'nearest'\n",
    "mpl.rcParams['image.cmap'] = 'viridis'\n",
    "\n",
    "# Run the %matplotlib magic command to enable inline plotting\n",
    "# in the current notebook.  Choose one of these:\n",
    "%matplotlib inline\n",
    "# %matplotlib notebook"
   ]
  },
  {
   "cell_type": "markdown",
   "metadata": {},
   "source": [
    "### Load the data"
   ]
  },
  {
   "cell_type": "markdown",
   "metadata": {
    "slideshow": {
     "slide_type": "-"
    }
   },
   "source": [
    "We'll start by reading data and error arrays from FITS files.  This is a small region from the Extreme-Deep Field (XDF) taken with WFC3/IR in the F160W filter."
   ]
  },
  {
   "cell_type": "code",
   "execution_count": null,
   "metadata": {
    "slideshow": {
     "slide_type": "-"
    }
   },
   "outputs": [],
   "source": [
    "from astropy.io import fits\n",
    "from astropy.wcs import WCS\n",
    "\n",
    "sci_fn = 'data/xdf_hst_wfc3ir_60mas_f160w_sci.fits'\n",
    "rms_fn = 'data/xdf_hst_wfc3ir_60mas_f160w_rms.fits'\n",
    "\n",
    "hdr = fits.getheader(sci_fn)\n",
    "data = fits.getdata(sci_fn)\n",
    "error = fits.getdata(rms_fn)\n",
    "wcs = WCS(hdr)"
   ]
  },
  {
   "cell_type": "code",
   "execution_count": null,
   "metadata": {},
   "outputs": [],
   "source": [
    "# calculate the total error:  background plus source Poisson error\n",
    "from photutils.utils import calc_total_error\n",
    "\n",
    "eff_gain = hdr['TEXPTIME']\n",
    "tot_error = calc_total_error(data, error, eff_gain)"
   ]
  },
  {
   "cell_type": "markdown",
   "metadata": {},
   "source": [
    "The background in the XDF image has already been subtracted.  Let's add a background of 5 e-/s."
   ]
  },
  {
   "cell_type": "code",
   "execution_count": null,
   "metadata": {},
   "outputs": [],
   "source": [
    "data += 5."
   ]
  },
  {
   "cell_type": "code",
   "execution_count": null,
   "metadata": {
    "slideshow": {
     "slide_type": "fragment"
    }
   },
   "outputs": [],
   "source": [
    "# display the data\n",
    "from astropy.visualization import simple_norm\n",
    "\n",
    "norm = simple_norm(data, 'sqrt', percent=99.5)\n",
    "plt.imshow(data, norm=norm)\n",
    "plt.colorbar()"
   ]
  },
  {
   "cell_type": "markdown",
   "metadata": {
    "slideshow": {
     "slide_type": "slide"
    }
   },
   "source": [
    "## Perform aperture photometry at multiple positions"
   ]
  },
  {
   "cell_type": "code",
   "execution_count": null,
   "metadata": {
    "slideshow": {
     "slide_type": "-"
    }
   },
   "outputs": [],
   "source": [
    "# define three apertures\n",
    "from photutils import CircularAperture\n",
    "\n",
    "positions = [(90.73, 59.43), (73.63, 139.41), (43.62, 61.63)]\n",
    "radius = 5.\n",
    "apertures = CircularAperture(positions, r=radius)"
   ]
  },
  {
   "cell_type": "code",
   "execution_count": null,
   "metadata": {},
   "outputs": [],
   "source": [
    "# plot the apertures\n",
    "plt.imshow(data, norm=norm)\n",
    "apertures.plot(color='red', lw=2)"
   ]
  },
  {
   "cell_type": "code",
   "execution_count": null,
   "metadata": {
    "slideshow": {
     "slide_type": "-"
    }
   },
   "outputs": [],
   "source": [
    "# perform aperture photometry for the three sources\n",
    "# data here includes background, so the aperture sums are *not* the source fluxes\n",
    "# ideally the data array should be background subtracted before running aperture_photometry\n",
    "import astropy.units as u\n",
    "from photutils import aperture_photometry\n",
    "\n",
    "unit = u.electron / u.s\n",
    "phot = aperture_photometry(data, apertures, error=tot_error, unit=unit)\n",
    "phot"
   ]
  },
  {
   "cell_type": "markdown",
   "metadata": {},
   "source": [
    "## Local background estimation"
   ]
  },
  {
   "cell_type": "markdown",
   "metadata": {},
   "source": [
    "First, let's create circular and circular-annulus apertures at the same positions.\n",
    "\n",
    "Here we're define a r=5 pixel circular aperture and a circular annulus with inner and outer radii of 10 and 15 pixels, respectively.\n",
    "\n",
    "The circular-annulus apertures will be used for local background estimation around the sources."
   ]
  },
  {
   "cell_type": "code",
   "execution_count": null,
   "metadata": {},
   "outputs": [],
   "source": [
    "from photutils import CircularAnnulus\n",
    "\n",
    "positions = [(90.73, 59.43), (73.63, 139.41), (43.62, 61.63)]\n",
    "aper = CircularAperture(positions, r=5)\n",
    "bkg_aper = CircularAnnulus(positions, r_in=10., r_out=15.)\n",
    "apers = [aper, bkg_aper]"
   ]
  },
  {
   "cell_type": "code",
   "execution_count": null,
   "metadata": {
    "scrolled": true
   },
   "outputs": [],
   "source": [
    "# plot the apertures\n",
    "plt.imshow(data, norm=norm)\n",
    "aper.plot(color='white', lw=2)\n",
    "bkg_aper.plot(color='orange', lw=2)"
   ]
  },
  {
   "cell_type": "markdown",
   "metadata": {},
   "source": [
    "### Simple local background estimation"
   ]
  },
  {
   "cell_type": "markdown",
   "metadata": {},
   "source": [
    "This simple example uses the mean value in circular annulus as the background value.  We'll use the `aperture_photometry` function to calculate the pixel sum in the circular annulus, from which we can calculate the mean background value."
   ]
  },
  {
   "cell_type": "code",
   "execution_count": null,
   "metadata": {},
   "outputs": [],
   "source": [
    "phot = aperture_photometry(data, apers)\n",
    "phot.rename_column('aperture_sum_0', 'aperture_sum')\n",
    "phot.rename_column('aperture_sum_1', 'annulus_sum')\n",
    "phot"
   ]
  },
  {
   "cell_type": "markdown",
   "metadata": {},
   "source": [
    "Note that the fluxes cannot be simply subtracted because the aperture areas are different.\n",
    "\n",
    "First, calculate the mean background level (per pixel) in the annuli."
   ]
  },
  {
   "cell_type": "code",
   "execution_count": null,
   "metadata": {},
   "outputs": [],
   "source": [
    "phot['annulus_mean'] = phot['annulus_sum'] / bkg_aper.area()\n",
    "phot"
   ]
  },
  {
   "cell_type": "markdown",
   "metadata": {},
   "source": [
    "Then multiply it by the circular aperture area to get the total background in the apertures."
   ]
  },
  {
   "cell_type": "code",
   "execution_count": null,
   "metadata": {},
   "outputs": [],
   "source": [
    "phot['aperture_bkg'] = phot['annulus_mean'] * aper.area()\n",
    "phot"
   ]
  },
  {
   "cell_type": "markdown",
   "metadata": {},
   "source": [
    "Now subtract the background."
   ]
  },
  {
   "cell_type": "code",
   "execution_count": null,
   "metadata": {},
   "outputs": [],
   "source": [
    "# subtract the background\n",
    "flux_bkgsub = phot['aperture_sum'] - phot['aperture_bkg']\n",
    "\n",
    "phot['aperture_sum_bkgsub'] = flux_bkgsub\n",
    "phot"
   ]
  },
  {
   "cell_type": "markdown",
   "metadata": {},
   "source": [
    "### Custom local background subtraction"
   ]
  },
  {
   "cell_type": "markdown",
   "metadata": {},
   "source": [
    "Starting with `photutils v0.3` (released Nov. 2016) one can use aperture masks to directly access the pixel values in an aperture.  This allows for advanced local background subtraction."
   ]
  },
  {
   "cell_type": "markdown",
   "metadata": {},
   "source": [
    "Aperture masks are created using the `to_mask()` method."
   ]
  },
  {
   "cell_type": "code",
   "execution_count": null,
   "metadata": {},
   "outputs": [],
   "source": [
    "bkg_mask = bkg_aper.to_mask()"
   ]
  },
  {
   "cell_type": "code",
   "execution_count": null,
   "metadata": {},
   "outputs": [],
   "source": [
    "# bkg_mask is a list of ApertureMask objects, one for each aperture position\n",
    "bkg_mask"
   ]
  },
  {
   "cell_type": "code",
   "execution_count": null,
   "metadata": {},
   "outputs": [],
   "source": [
    "# Let's plot the first one.\n",
    "plt.imshow(bkg_mask[0])\n",
    "plt.colorbar()"
   ]
  },
  {
   "cell_type": "markdown",
   "metadata": {},
   "source": [
    "The mask values are between 0 and 1, indicating the overlap fraction of the aperture on the pixel grid.  The fractional values in the mask above are because the default overlap method is \"exact\".  We can use other methods, e.g. \"center\", where pixels are either completely in or out of the aperture depending on whether the pixel center is in or out of the aperture."
   ]
  },
  {
   "cell_type": "code",
   "execution_count": null,
   "metadata": {
    "scrolled": true
   },
   "outputs": [],
   "source": [
    "bkg_mask = bkg_aper.to_mask(method='center')\n",
    "plt.imshow(bkg_mask[0])\n",
    "plt.colorbar()"
   ]
  },
  {
   "cell_type": "markdown",
   "metadata": {},
   "source": [
    "The values in the above mask are either 0 or 1.  **This the type of mask that I strongly recommend you use for local background estimation.**\n",
    "\n",
    "One could use the \"exact\" mask, but it requires using statistical functions that can handle partial-pixel weights.  That introduces a lot of unnecessary complexity when the aperture is simply being used to estimate the local background -- whole pixels are fine, assuming you have a sufficient number of them."
   ]
  },
  {
   "cell_type": "markdown",
   "metadata": {},
   "source": [
    "We can now use the `ApertureMask` `multiply` method to get the values of the mask multiplied to the data.  Since the mask values are 0 or 1, this is simply the data values within the annulus aperture:"
   ]
  },
  {
   "cell_type": "code",
   "execution_count": null,
   "metadata": {
    "scrolled": false
   },
   "outputs": [],
   "source": [
    "bmask = bkg_mask[0]   # first aperture\n",
    "data1 = bmask.multiply(data)\n",
    "plt.imshow(data1, vmin=4.998, vmax=5.002)\n",
    "plt.colorbar()"
   ]
  },
  {
   "cell_type": "markdown",
   "metadata": {},
   "source": [
    "From this 2D array, you can extract a 1D array of data values (e.g. if you don't care about their spatial positions, which is probably most cases).  You can then use your favorite statistical estimator on this data to estimate the background level."
   ]
  },
  {
   "cell_type": "code",
   "execution_count": null,
   "metadata": {},
   "outputs": [],
   "source": [
    "# extract the data within the aperture\n",
    "# data_values is a 1D ndarray\n",
    "idx = bmask.data > 0\n",
    "aper_data = data1[idx]\n",
    "aper_data.shape"
   ]
  },
  {
   "cell_type": "code",
   "execution_count": null,
   "metadata": {},
   "outputs": [],
   "source": [
    "# to calculate the mask weights (e.g. needed for method='exact')\n",
    "# for method='center' the weights will all be 1.\n",
    "weights = bmask.data[idx]\n",
    "weights.shape"
   ]
  },
  {
   "cell_type": "code",
   "execution_count": null,
   "metadata": {},
   "outputs": [],
   "source": [
    "# distribution of data values in the annulus aperture\n",
    "plt.hist(aper_data, bins=20)"
   ]
  },
  {
   "cell_type": "code",
   "execution_count": null,
   "metadata": {},
   "outputs": [],
   "source": [
    "# simple mean and median\n",
    "np.mean(aper_data), np.median(aper_data)"
   ]
  },
  {
   "cell_type": "code",
   "execution_count": null,
   "metadata": {},
   "outputs": [],
   "source": [
    "# sigma-clipped mean and median\n",
    "from astropy.stats import sigma_clipped_stats\n",
    "mean_sigclip, median_sigclip, std_sigclip = sigma_clipped_stats(aper_data)\n",
    "mean_sigclip, median_sigclip"
   ]
  },
  {
   "cell_type": "code",
   "execution_count": null,
   "metadata": {},
   "outputs": [],
   "source": [
    "# biweight \"mean\"\n",
    "from astropy.stats import biweight_location\n",
    "biweight_location(aper_data)"
   ]
  },
  {
   "cell_type": "markdown",
   "metadata": {},
   "source": [
    "These background estimates represent the background *per pixel* for the first source only.  Like the first simple local background example, be sure to calculate the total background with the circular aperture before subtracting.  The area of the 'exact' circular aperture that we used for photometry is returned by its `area()` method."
   ]
  },
  {
   "cell_type": "code",
   "execution_count": null,
   "metadata": {},
   "outputs": [],
   "source": [
    "# total background in circular aperture of the first source\n",
    "# estimated using a sigma-clipped median in the circular annulus\n",
    "bkg_total = aper.area() * median_sigclip\n",
    "bkg_total"
   ]
  },
  {
   "cell_type": "code",
   "execution_count": null,
   "metadata": {},
   "outputs": [],
   "source": [
    "# now subtract the background from the first source\n",
    "phot['aperture_sum'][0] - bkg_total"
   ]
  },
  {
   "cell_type": "code",
   "execution_count": null,
   "metadata": {},
   "outputs": [],
   "source": [
    "# which is close to our first simple local background estimate (simple mean)\n",
    "# because there were not any outliers in the background annulus\n",
    "phot['aperture_sum_bkgsub'][0]"
   ]
  },
  {
   "cell_type": "markdown",
   "metadata": {},
   "source": [
    "## Putting it all together"
   ]
  },
  {
   "cell_type": "markdown",
   "metadata": {},
   "source": [
    "Above was a very pedagogical description of the underlying methods for local background subtraction for a single source.\n",
    "\n",
    "However, it's quite straightforward to do this for all of the sources in just a few lines of code.  For this example, we'll again use the sigma-clipped median of the pixels in the background annuli for the background estimates of each source."
   ]
  },
  {
   "cell_type": "code",
   "execution_count": null,
   "metadata": {},
   "outputs": [],
   "source": [
    "# these are the sigma-clipped median values in each of the background annuli\n",
    "bkg_median = []\n",
    "bkg_mask = bkg_aper.to_mask(method='center')\n",
    "for mask in bkg_mask:\n",
    "    aper_data = bmask.multiply(data)\n",
    "    aper_data = aper_data[mask.data > 0]\n",
    "    \n",
    "    # perform a sigma-clipped median\n",
    "    _, median_sigclip, _ = sigma_clipped_stats(aper_data)\n",
    "    bkg_median.append(median_sigclip)\n",
    "    \n",
    "bkg_median = np.array(bkg_median)\n",
    "bkg_median"
   ]
  },
  {
   "cell_type": "code",
   "execution_count": null,
   "metadata": {},
   "outputs": [],
   "source": [
    "# correct for aperture area, subtract the background, and add table columns\n",
    "# I left the simple mean columns in the table for comparison.\n",
    "phot['annulus_median'] = bkg_median\n",
    "phot['aperture_bkg2'] = bkg_median * aper.area()\n",
    "phot['aperture_sum_bkgsub2'] = phot['aperture_sum'] - phot['aperture_bkg2']\n",
    "phot"
   ]
  },
  {
   "cell_type": "markdown",
   "metadata": {},
   "source": [
    "## A few more things about `ApertureMask`"
   ]
  },
  {
   "cell_type": "markdown",
   "metadata": {},
   "source": [
    "Cutouts of each source using the minimal bounding box of each aperture can be obtained using the `cutout()` method."
   ]
  },
  {
   "cell_type": "code",
   "execution_count": null,
   "metadata": {},
   "outputs": [],
   "source": [
    "plt.imshow(bmask.cutout(data))"
   ]
  },
  {
   "cell_type": "code",
   "execution_count": null,
   "metadata": {},
   "outputs": [],
   "source": [
    "plt.figure(figsize=(10, 10))\n",
    "\n",
    "plt.subplot(1, 3, 1)\n",
    "plt.imshow(bmask)\n",
    "plt.title('Aperture Mask')\n",
    "\n",
    "plt.subplot(1, 3, 2)\n",
    "plt.title('Data Cutout')\n",
    "plt.imshow(bmask.cutout(data))\n",
    "\n",
    "plt.subplot(1, 3, 3)\n",
    "plt.title('Mask * Data Cutout')\n",
    "plt.imshow(bmask.multiply(data), vmin=4.998, vmax=5.002)"
   ]
  },
  {
   "cell_type": "markdown",
   "metadata": {},
   "source": [
    "One can also plot the location of the mask on the original data using the `to_image()` method."
   ]
  },
  {
   "cell_type": "code",
   "execution_count": null,
   "metadata": {},
   "outputs": [],
   "source": [
    "plt.figure(figsize=(10, 10))\n",
    "\n",
    "plt.subplot(1, 2, 1)\n",
    "plt.title('Data')\n",
    "plt.imshow(data, norm=norm)\n",
    "\n",
    "plt.subplot(1, 2, 2)\n",
    "plt.title('Background Annulus Mask')\n",
    "plt.imshow(bmask.to_image(data.shape))"
   ]
  },
  {
   "cell_type": "markdown",
   "metadata": {},
   "source": [
    "We can also use the `bbox` attribute to show the extent of the annulus mask in the image."
   ]
  },
  {
   "cell_type": "code",
   "execution_count": null,
   "metadata": {},
   "outputs": [],
   "source": [
    "plt.imshow(data, norm=norm)\n",
    "bkg_aper.plot(color='orange')\n",
    "\n",
    "ax = plt.gca()\n",
    "ax.add_patch(bmask.bbox.as_patch(facecolor='none', edgecolor='white'))"
   ]
  },
  {
   "cell_type": "code",
   "execution_count": null,
   "metadata": {},
   "outputs": [],
   "source": []
  }
 ],
 "metadata": {
  "anaconda-cloud": {},
  "kernelspec": {
   "display_name": "Python 3",
   "language": "python",
   "name": "python3"
  }
 },
 "nbformat": 4,
 "nbformat_minor": 1
}
