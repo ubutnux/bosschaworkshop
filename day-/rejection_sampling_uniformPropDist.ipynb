{
 "cells": [
  {
   "cell_type": "markdown",
   "metadata": {},
   "source": [
    "# PDF Sampling: The acceptance-rejection method, with different proposal distribution\n",
    "\n",
    "Acceptance-rejection method assume we have a simpler p.d.f. $q^*(x)$ which we can easily draw samples. Our proposal distribution $q^*(x)$ must cover targeted p.d.f $p^*(x)$ in our interested region.\n",
    "\n",
    "$q^*(x) > p^*(x), \\quad \\text{for all } x \\quad (\\text{or interested region } x)$\n",
    "\n",
    "$Steps :$\n",
    "- generate random variable $x$ in our interested region $[x_{min}, x_{max}]$\n",
    "- evaluate $q^*(x)$ \n",
    "- generate random variable $y$ in the range $[0, q^*(x)]$\n",
    "- if $y < p^*(x)$, then accept $x$, otherwise reject $x$.\n",
    "\n",
    "\n",
    "Lets try some proposal distribution to generate p.d.f $p^*(x)$\n",
    "\n",
    "$p^*(x) = \\exp[0.4(x-0.4)^2 - 0.08x^4]$\n"
   ]
  },
  {
   "cell_type": "code",
   "execution_count": 1,
   "metadata": {
    "collapsed": false
   },
   "outputs": [],
   "source": [
    "import numpy as np\n",
    "import matplotlib.pyplot as plt\n",
    "from scipy.integrate import quad\n",
    "\n",
    "%matplotlib inline"
   ]
  },
  {
   "cell_type": "code",
   "execution_count": 2,
   "metadata": {
    "collapsed": true
   },
   "outputs": [],
   "source": [
    "def pdftarget(x, norm=1):\n",
    "    return np.exp(0.4*(x - 0.4)*(x - 0.4) - 0.08*x*x*x*x)/norm"
   ]
  },
  {
   "cell_type": "code",
   "execution_count": 3,
   "metadata": {
    "collapsed": false
   },
   "outputs": [
    {
     "name": "stdout",
     "output_type": "stream",
     "text": [
      "(7.8521781788662155, 1.4333237621618567e-08)\n"
     ]
    }
   ],
   "source": [
    "# integrate \n",
    "I = quad(pdftarget, -100, 100)\n",
    "print I"
   ]
  },
  {
   "cell_type": "code",
   "execution_count": 4,
   "metadata": {
    "collapsed": false
   },
   "outputs": [
    {
     "data": {
      "text/plain": [
       "[<matplotlib.lines.Line2D at 0x7f309c68aed0>]"
      ]
     },
     "execution_count": 4,
     "metadata": {},
     "output_type": "execute_result"
    },
    {
     "data": {
      "image/png": "[encoded data removed]",
      "text/plain": [
       "<matplotlib.figure.Figure at 0x7f30cc3d6fd0>"
      ]
     },
     "metadata": {},
     "output_type": "display_data"
    }
   ],
   "source": [
    "xmin, xmax = -5, 5\n",
    "N = 100\n",
    "x = np.linspace(xmin, xmax, N)\n",
    "y = pdftarget(x, norm=I[0])\n",
    "\n",
    "plt.plot(x, y)"
   ]
  },
  {
   "cell_type": "code",
   "execution_count": 5,
   "metadata": {
    "collapsed": true
   },
   "outputs": [],
   "source": [
    "def sampling(nsamples=1000, xmin=-5, xmax=5):\n",
    "    I = quad(pdftarget, -100, 100) # integrate\n",
    "    normalize = I[0]\n",
    "    \n",
    "    x = np.linspace(xmin, xmax, 1000)\n",
    "    p = pdftarget(x, norm=normalize)\n",
    "    yhighest = np.amax(p)\n",
    "    c = 1.01*yhighest\n",
    "    \n",
    "    # start\n",
    "    xsample = xmin + (xmax - xmin)*np.random.random(nsamples) # uniform proposal distribution\n",
    "    p = pdftarget(xsample, norm=normalize)\n",
    "    ysample = c*np.random.random(nsamples)\n",
    "    \n",
    "    accept = ysample <= p\n",
    "    \n",
    "    return xsample, ysample, accept, c, normalize"
   ]
  },
  {
   "cell_type": "markdown",
   "metadata": {},
   "source": [
    "Let's try it"
   ]
  },
  {
   "cell_type": "code",
   "execution_count": 6,
   "metadata": {
    "collapsed": false
   },
   "outputs": [
    {
     "data": {
      "image/png": "[encoded data removed]",
      "text/plain": [
       "<matplotlib.figure.Figure at 0x7f30a95c59d0>"
      ]
     },
     "metadata": {},
     "output_type": "display_data"
    }
   ],
   "source": [
    "xsample, ysample, accept, c, normalize = sampling(nsamples=1000000)\n",
    "xaccept = xsample[accept]\n",
    "plt.hist(xaccept, bins=100, normed=1, histtype='stepfilled', color='blue', alpha=0.5);"
   ]
  },
  {
   "cell_type": "markdown",
   "metadata": {},
   "source": [
    "### Make an animation"
   ]
  },
  {
   "cell_type": "code",
   "execution_count": 7,
   "metadata": {
    "collapsed": false
   },
   "outputs": [],
   "source": [
    "def plot_samples(xsample, ysample, accept, c, normalize, xmin=-5, xmax=5, nbins=50, write=False, filename='plot_rejection_sampling.png', trace=False):\n",
    "    nsamples = len(xsample)\n",
    "    ofile = '/home/ridlo/project/stats/rejection_uniform/'+filename\n",
    "    \n",
    "    xaccept = xsample[accept]\n",
    "    n_accept = len(xaccept)\n",
    "    \n",
    "    fig = plt.figure()\n",
    "    ax = fig.add_subplot(111)\n",
    "    ax.set_xlim(xmin, xmax)\n",
    "    ymax = 1.2*c\n",
    "    ax.set_ylim(0, ymax)\n",
    "    \n",
    "    x = np.linspace(xmin, xmax, 100) # draw target dist line\n",
    "    target_dist = pdftarget(x, norm=normalize)\n",
    "    propos_dist = np.empty_like(x)  # draw uniform dist line\n",
    "    propos_dist.fill(c)\n",
    "    \n",
    "    ax.plot(x, target_dist, 'k')\n",
    "    ax.plot(x, propos_dist, 'g')\n",
    "    \n",
    "    if nsamples > 0:\n",
    "        if n_accept > 0:\n",
    "            ax.hist(xaccept, bins=nbins, normed=1, histtype='stepfilled', color='b', linewidth=0, alpha=0.5)\n",
    "    \n",
    "            if trace:\n",
    "                sample_x = xsample[-1] # last sample \n",
    "                sample_y = ysample[-1]\n",
    "                sample_accept = accept[-1]\n",
    "                ax.axvline(x=sample_x, ymin=0, ymax=(sample_y)/(ymax), c='k')\n",
    "                ax.axhline(y=sample_y, xmin=xmin, xmax=(sample_x-xmin)/(xmax-xmin), c='k')\n",
    "                if sample_accept:\n",
    "                    ax.plot(sample_x, sample_y, 'k.')\n",
    "                else:\n",
    "                    ax.plot(sample_x, sample_y, 'r.')\n",
    "\n",
    "            rate_accept = float(n_accept)/float(nsamples)\n",
    "            text = r'$n_{sample} = '+'{0:d}$'.format(nsamples)+'\\n'\n",
    "            text += r'$r_{accept} = '+'{0:0.2f}$'.format(rate_accept)\n",
    "            ax.annotate(text, xy=(0.7, 0.97), xycoords='axes fraction', ha='left', va='top') \n",
    "    \n",
    "    if write:\n",
    "        plt.savefig(ofile, bbox_inches='tight', dpi=300); plt.close()\n",
    "    else:\n",
    "        plt.show(); plt.close()"
   ]
  },
  {
   "cell_type": "code",
   "execution_count": 8,
   "metadata": {
    "collapsed": false,
    "scrolled": false
   },
   "outputs": [
    {
     "data": {
      "image/png": "[encoded data removed]",
      "text/plain": [
       "<matplotlib.figure.Figure at 0x7f309c6c9510>"
      ]
     },
     "metadata": {},
     "output_type": "display_data"
    }
   ],
   "source": [
    "xsample, ysample, accept, c, normalize = sampling(nsamples=1000)\n",
    "plot_samples(xsample, ysample, accept, c, normalize, trace=True)"
   ]
  },
  {
   "cell_type": "code",
   "execution_count": 145,
   "metadata": {
    "collapsed": false
   },
   "outputs": [
    {
     "name": "stdout",
     "output_type": "stream",
     "text": [
      ". . . . . . . . . . . . . . . . . . . . . . . . . . . . . . . . . . . . . . . . . . . . . . . . . . . . . . . . . . . . . . . . . . . . . . . . . . . . . . . . . . . . . . . . . . . . . . . . . . . .\n"
     ]
    }
   ],
   "source": [
    "# make an animation\n",
    "nsample = 1000\n",
    "xsample, ysample, accept, c, normalize = sampling(nsamples=nsample)\n",
    "divisor = 10\n",
    "\n",
    "for i in range(nsample):\n",
    "    plot_samples(xsample[0:i], \n",
    "                ysample[0:i], \n",
    "                accept[0:i], \n",
    "                c, \n",
    "                normalize,\n",
    "                write=True,\n",
    "                filename='plotsample_nsamp_{0:04d}.png'.format(i),\n",
    "                trace=True)\n",
    "    \n",
    "    if (((i+1) % divisor) == 0):\n",
    "        print \".\","
   ]
  },
  {
   "cell_type": "code",
   "execution_count": 1,
   "metadata": {
    "collapsed": true
   },
   "outputs": [],
   "source": [
    "from IPython.display import YouTubeVideo"
   ]
  },
  {
   "cell_type": "code",
   "execution_count": 2,
   "metadata": {
    "collapsed": false
   },
   "outputs": [
    {
     "data": {
      "image/jpeg": "[encoded data removed]",
      "text/html": [
       "\n",
       "        <iframe\n",
       "            width=\"400\"\n",
       "            height=\"300\"\n",
       "            src=\"https://www.youtube.com/embed/hObkFth7kMs\"\n",
       "            frameborder=\"0\"\n",
       "            allowfullscreen\n",
       "        ></iframe>\n",
       "        "
      ],
      "text/plain": [
       "<IPython.lib.display.YouTubeVideo at 0x7f13723c5e10>"
      ]
     },
     "execution_count": 2,
     "metadata": {},
     "output_type": "execute_result"
    }
   ],
   "source": [
    "YouTubeVideo(\"hObkFth7kMs\")"
   ]
  },
  {
   "cell_type": "markdown",
   "metadata": {},
   "source": [
    "### References\n",
    "\n",
    "- SEAYAC Workshop, *MC methods in astronomy*, Tri L. Astraatmadja (MPIA Heidelberg)\n",
    "    Krabi, 4 December 2015"
   ]
  },
  {
   "cell_type": "code",
   "execution_count": null,
   "metadata": {
    "collapsed": true
   },
   "outputs": [],
   "source": []
  }
 ],
 "metadata": {
  "kernelspec": {
   "display_name": "Python 2",
   "language": "python",
   "name": "python2"
  },
  "language_info": {
   "codemirror_mode": {
    "name": "ipython",
    "version": 2
   },
   "file_extension": ".py",
   "mimetype": "text/x-python",
   "name": "python",
   "nbconvert_exporter": "python",
   "pygments_lexer": "ipython2",
   "version": "2.7.11"
  }
 },
 "nbformat": 4,
 "nbformat_minor": 0
}
