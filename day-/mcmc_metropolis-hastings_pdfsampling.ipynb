{
 "cells": [
  {
   "cell_type": "markdown",
   "metadata": {},
   "source": [
    "### PDF Sampling: MCMC Metropolis-Hastings\n",
    "\n",
    "We use a proposal distribution $Q(x' | x^{(t)})$ to generate a proposed next state $x'$ based on current state $x^{(t)}$.\n",
    "\n",
    "<strong>Metropolis-Hastings Algorithm:</strong>\n",
    "0. Initiate state $x^{(t=0)}$\n",
    "1. Generate a proposed state from $Q(x' | x^{(t)})$\n",
    "2. Compute $a = \\frac{f^{*}(x')}{f^{*}(x^{(t)})} \\frac{Q(x^{(t)} | x')}{Q(x' | x^{(t)})}$\n",
    "3. If $a \\ge 1$ accept proposed state $x'$\n",
    "4. Otherwise, generate $u$ from a uniform distribution in interval $[0, 1]$ and accept the proposed state if $a \\ge u$.\n",
    "5. If the state is accepted, we set $x^{(t+1)} = x'$\n",
    "6. If the state is rejected, stick to the previous state and set $x^{(t+1)} = x^{(t)}$\n",
    "\n",
    "Note that if $Q(x' | x^{(t)})$ is symmetric, the ratio of $\\frac{Q(x^{(t)} | x')}{Q(x' | x^{(t)})}$ is always 1.\n",
    "\n",
    "> * SEAYAC Workshop, *MC methods in astronomy*, Tri L. Astraatmadja (MPIA Heidelberg)\n",
    "  Krabi, 4 December 2015"
   ]
  },
  {
   "cell_type": "code",
   "execution_count": 1,
   "metadata": {},
   "outputs": [],
   "source": [
    "import math\n",
    "import numpy as np\n",
    "from scipy.integrate import quad\n",
    "from scipy.stats import norm\n",
    "import matplotlib.pyplot as plt\n",
    "\n",
    "%matplotlib inline"
   ]
  },
  {
   "cell_type": "code",
   "execution_count": 2,
   "metadata": {
    "collapsed": true
   },
   "outputs": [],
   "source": [
    "def pdftarget(x, norm=1):\n",
    "    return np.exp(0.4*(x-0.4)*(x-0.4) - 0.08*x*x*x*x)/norm"
   ]
  },
  {
   "cell_type": "code",
   "execution_count": 3,
   "metadata": {
    "collapsed": true
   },
   "outputs": [],
   "source": [
    "def sampling_mcmc_mh(xt, stepsize, nsamp):\n",
    "    samples = np.empty(nsamp)\n",
    "    accept = np.empty(nsamp)\n",
    "    for i in range(nsamp):\n",
    "        xprime = xt + stepsize*np.random.normal() # gaussian proposal distribution\n",
    "        a = pdftarget(xprime)/pdftarget(xt) # symmetric -> gaussian\n",
    "        if a >= 1.0:\n",
    "            xt = xprime\n",
    "            accept[i] = 1\n",
    "        else:\n",
    "            u = np.random.random()\n",
    "            if a >= u:\n",
    "                xt = xprime\n",
    "                accept[i] = 1\n",
    "            else:\n",
    "                accept[i] = 0 # reject xprime, xt = xt\n",
    "        \n",
    "        samples[i] = xt\n",
    "        \n",
    "    return samples, accept"
   ]
  },
  {
   "cell_type": "markdown",
   "metadata": {},
   "source": [
    "### Let's try it"
   ]
  },
  {
   "cell_type": "code",
   "execution_count": 4,
   "metadata": {},
   "outputs": [],
   "source": [
    "mu = 0\n",
    "sigma = 2\n",
    "nsamp = 1000\n",
    "samples, accept = sampling_mcmc_mh(mu, sigma, nsamp)"
   ]
  },
  {
   "cell_type": "code",
   "execution_count": 5,
   "metadata": {},
   "outputs": [
    {
     "data": {
      "image/png": "[encoded data removed]",
      "text/plain": [
       "<matplotlib.figure.Figure at 0x7f096d005c10>"
      ]
     },
     "metadata": {},
     "output_type": "display_data"
    }
   ],
   "source": [
    "nbins = 50\n",
    "xmin, xmax = -5, 5\n",
    "\n",
    "I = quad(pdftarget, -100, +100)\n",
    "x = np.linspace(xmin, xmax, 1000)\n",
    "y = pdftarget(x, I[0])\n",
    "\n",
    "plt.hist(samples, bins=nbins, normed=True, histtype=\"stepfilled\", color=\"blue\", alpha=0.5, linewidth=0)\n",
    "plt.plot(x, y, 'k')\n",
    "plt.xlim([xmin, xmax])\n",
    "plt.show()"
   ]
  },
  {
   "cell_type": "markdown",
   "metadata": {},
   "source": [
    "### Make an animation"
   ]
  },
  {
   "cell_type": "code",
   "execution_count": 7,
   "metadata": {
    "collapsed": true
   },
   "outputs": [],
   "source": [
    "def plot_samples(samples, accept, stepsize, x, target_dist, xmin=-5, xmax=5, nbins=50, write=False, filename=\"plot_samp_mcmc.png\", trace=False):\n",
    "    nsamples = len(samples)\n",
    "    ofile = '/home/ridlo/project/stats/mcmc_sampling/'+filename \n",
    "    \n",
    "    fig = plt.figure()\n",
    "    ax = fig.add_subplot(111)\n",
    "    ax.set_xlim(xmin, xmax)\n",
    "    \n",
    "    #x = np.linspace(xmin, xmax, 1000) \n",
    "    #target_dist = pdftarget(x, normed=normalize)\n",
    "    max_propdist = norm.pdf(0, 0, stepsize) # to draw line\n",
    "    \n",
    "    ymax = 1.1*np.amax(target_dist)\n",
    "    ax.set_ylim(0, ymax)\n",
    "    \n",
    "    ax.plot(x, target_dist, 'k') # draw target dist line\n",
    "    if nsamples > 1:\n",
    "        ax.hist(samples, normed=True, bins=nbins, histtype=\"stepfilled\", color=\"blue\", alpha=0.5, linewidth=0)\n",
    "        if trace:\n",
    "            last_state = samples[-1] # last sample \n",
    "            last_acc = accept[-1]\n",
    "            prev_state = samples[-2]\n",
    "            prev_acc = accept[-2]\n",
    "            \n",
    "            ax.plot(x, norm.pdf(x, prev_state, stepsize), 'g') # draw previous propos dist\n",
    "            ax.axvline(x=prev_state, ymin=0, ymax=(max_propdist)/(ymax), c='g')\n",
    "            \n",
    "            color = 'r'\n",
    "            if last_acc > 0: color = 'k'     \n",
    "            ax.axvline(x=last_state, ymin=0, ymax=(norm.pdf(last_state, prev_state, stepsize))/(ymax), c=color)\n",
    "\n",
    "        ratio_accept = float(len(samples[accept>0]))/float(nsamples)\n",
    "        text = r'$n_{sample} = '+'{0:d}$'.format(nsamples)+'\\n'\n",
    "        text += r'$r_{accept} = '+'{0:0.2f}$'.format(ratio_accept)\n",
    "        ax.annotate(text, xy=(0.7, 0.97), xycoords='axes fraction', ha='left', va='top') \n",
    "    \n",
    "    if write:\n",
    "        plt.savefig(ofile, bbox_inches='tight', dpi=400); plt.close()\n",
    "    else:\n",
    "        plt.show(); plt.close()"
   ]
  },
  {
   "cell_type": "code",
   "execution_count": 8,
   "metadata": {},
   "outputs": [],
   "source": [
    "# Test\n",
    "mu = 0\n",
    "sigma = 2\n",
    "nsamp = 1000\n",
    "samples, accept = sampling_mcmc_mh(mu, sigma, nsamp)\n",
    "\n",
    "I = quad(pdftarget, -100, +100)\n",
    "x = np.linspace(xmin, xmax, 1000)\n",
    "y = pdftarget(x, I[0])"
   ]
  },
  {
   "cell_type": "code",
   "execution_count": 9,
   "metadata": {},
   "outputs": [
    {
     "data": {
      "image/png": "[encoded data removed]",
      "text/plain": [
       "<matplotlib.figure.Figure at 0x7f099b049c50>"
      ]
     },
     "metadata": {},
     "output_type": "display_data"
    }
   ],
   "source": [
    "plot_samples(samples, accept, sigma, x, y, trace=True)"
   ]
  },
  {
   "cell_type": "code",
   "execution_count": 10,
   "metadata": {},
   "outputs": [
    {
     "name": "stdout",
     "output_type": "stream",
     "text": [
      ". . . . . . . . . . . . . . . . . . . . . . . . . . . . . . . . . . . . . . . . . . . . . . . . . . . . . . . . . . . . . . . . . . . . . . . . . . . . . . . . . . . . . . . . . . . . . . . . . . . .\n"
     ]
    }
   ],
   "source": [
    "# make an animation\n",
    "divisor = 10\n",
    "for i in range(nsamp):\n",
    "    plot_samples(samples[0:i], \n",
    "                 accept[0:i], \n",
    "                 sigma, \n",
    "                 x, y, \n",
    "                 write=True,\n",
    "                 filename='plotsample_nsamp_{0:04d}.png'.format(i),\n",
    "                 trace=True)\n",
    "    \n",
    "    if (((i+1) % divisor) == 0):\n",
    "        print \".\","
   ]
  },
  {
   "cell_type": "code",
   "execution_count": 1,
   "metadata": {
    "collapsed": true
   },
   "outputs": [],
   "source": [
    "from IPython.display import YouTubeVideo"
   ]
  },
  {
   "cell_type": "code",
   "execution_count": 2,
   "metadata": {},
   "outputs": [
    {
     "data": {
      "text/html": [
       "\n",
       "        <iframe\n",
       "            width=\"400\"\n",
       "            height=\"300\"\n",
       "            src=\"https://www.youtube.com/embed/zL2lg_Nfi80\"\n",
       "            frameborder=\"0\"\n",
       "            allowfullscreen\n",
       "        ></iframe>\n",
       "        "
      ],
      "text/plain": [
       "<IPython.lib.display.YouTubeVideo at 0x7fba40e6fe90>"
      ]
     },
     "execution_count": 2,
     "metadata": {},
     "output_type": "execute_result"
    }
   ],
   "source": [
    "YouTubeVideo(\"zL2lg_Nfi80\")"
   ]
  },
  {
   "cell_type": "markdown",
   "metadata": {},
   "source": [
    "### Reference\n",
    "\n",
    "- SEAYAC Workshop, *MC methods in astronomy*, Tri L. Astraatmadja (MPIA Heidelberg)\n",
    "    Krabi, 4 December 2015"
   ]
  },
  {
   "cell_type": "code",
   "execution_count": null,
   "metadata": {
    "collapsed": true
   },
   "outputs": [],
   "source": []
  }
 ],
 "metadata": {
  "kernelspec": {
   "display_name": "Python 2",
   "language": "python",
   "name": "python2"
  },
  "language_info": {
   "codemirror_mode": {
    "name": "ipython",
    "version": 2
   },
   "file_extension": ".py",
   "mimetype": "text/x-python",
   "name": "python",
   "nbconvert_exporter": "python",
   "pygments_lexer": "ipython2",
   "version": "2.7.13"
  }
 },
 "nbformat": 4,
 "nbformat_minor": 1
}
