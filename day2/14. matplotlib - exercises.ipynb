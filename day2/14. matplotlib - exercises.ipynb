{
 "cells": [
  {
   "cell_type": "markdown",
   "metadata": {},
   "source": [
    "# matplotlib exercises"
   ]
  },
  {
   "cell_type": "code",
   "execution_count": null,
   "metadata": {
    "collapsed": true
   },
   "outputs": [],
   "source": [
    "import matplotlib.pyplot as plt\n",
    "import numpy as np\n",
    "%matplotlib inline"
   ]
  },
  {
   "cell_type": "markdown",
   "metadata": {},
   "source": [
    "## Q1: planetary positions\n",
    "\n",
    "The distances of the planets from the Sun (technically, their semi-major axes) are:"
   ]
  },
  {
   "cell_type": "code",
   "execution_count": null,
   "metadata": {
    "collapsed": true
   },
   "outputs": [],
   "source": [
    "a = np.array([0.39, 0.72, 1.00, 1.52, 5.20, 9.54, 19.22, 30.06, 39.48])"
   ]
  },
  {
   "cell_type": "markdown",
   "metadata": {},
   "source": [
    "These are in units where the Earth-Sun distance is 1 (astronomical units).\n",
    "\n",
    "The corresponding periods of their orbits (how long they take to go once around the Sun) are, in years"
   ]
  },
  {
   "cell_type": "code",
   "execution_count": null,
   "metadata": {
    "collapsed": true
   },
   "outputs": [],
   "source": [
    "P = np.array([0.24, 0.62, 1.00, 1.88, 11.86, 29.46, 84.01, 164.8, 248.09])"
   ]
  },
  {
   "cell_type": "markdown",
   "metadata": {},
   "source": [
    "Finally, the names of the planets corresponding to these are:"
   ]
  },
  {
   "cell_type": "code",
   "execution_count": null,
   "metadata": {
    "collapsed": true
   },
   "outputs": [],
   "source": [
    "names = [\"Mercury\", \"Venus\", \"Earth\", \"Mars\", \"Jupiter\", \"Saturn\", \n",
    "         \"Uranus\", \"Neptune\", \"Pluto\"]"
   ]
  },
  {
   "cell_type": "markdown",
   "metadata": {},
   "source": [
    "(technically, pluto isn't a planet anymore, but we still love it :)\n",
    "\n",
    "  * Plot as points, the periods vs. distances for each planet on a log-log plot.\n",
    "\n",
    "  * Write the name of the planet next to the point for that planet on the plot"
   ]
  },
  {
   "cell_type": "code",
   "execution_count": null,
   "metadata": {},
   "outputs": [],
   "source": []
  },
  {
   "cell_type": "markdown",
   "metadata": {},
   "source": [
    "## Q2: drawing a circle\n",
    "\n",
    "For an angle $\\theta$ in the range $\\theta \\in [0, 2\\pi]$, the polar equations of a circle of radius $R$ are:\n",
    "$$\n",
    "x = R\\cos(\\theta)\n",
    "$$\n",
    "$$ \n",
    "y = R\\sin(\\theta)\n",
    "$$\n",
    "\n",
    "We want to draw a circle.   \n",
    "\n",
    "  * Create an array to hold the theta values&mdash;the more we use, the smoother the circle will be\n",
    "  * Create `x` and `y` arrays from `theta` for your choice of $R$\n",
    "  * Plot `y` vs. `x`\n",
    "  \n",
    "Now, look up the matplotlib `fill()` function, and draw a circle filled in with a solid color."
   ]
  },
  {
   "cell_type": "code",
   "execution_count": null,
   "metadata": {},
   "outputs": [],
   "source": []
  },
  {
   "cell_type": "markdown",
   "metadata": {},
   "source": [
    "## Q3: Circles, circles, circles...\n",
    "\n",
    "Generalize your circle drawing commands to produce a function, \n",
    "```\n",
    "draw_circle(x0, y0, R, color)\n",
    "```\n",
    "that draws the circle.  Here, `(x0, y0)` is the center of the circle, `R` is the radius, and `color` is the color of the circle.  \n",
    "\n",
    "Now randomly draw 10 circles at different locations, with random radii, and random colors on the same plot."
   ]
  },
  {
   "cell_type": "code",
   "execution_count": null,
   "metadata": {},
   "outputs": [],
   "source": []
  },
  {
   "cell_type": "markdown",
   "metadata": {},
   "source": [
    "## Q4: Climate\n",
    "\n",
    "Use the data file of global surface air temperature averages `nasa-giss.txt`\n",
    "\n",
    "(this data comes from: https://data.giss.nasa.gov/gistemp/graphs/)\n",
    "\n",
    "There are 3 columns here: the year, the temperature change, and a smoothed representation of the temperature change.  \n",
    "\n",
    "  * Read in this data using `np.loadtxt()`.  \n",
    "  * Plot as a line the smoothed representation of the temperature changes.  \n",
    "  * Plot as points the temperature change (no smoothing).  Color the points blue if they are < 0 and color them red if they are >= 0\n",
    "  \n",
    "You might find the NumPy `where()` function useful."
   ]
  },
  {
   "cell_type": "code",
   "execution_count": null,
   "metadata": {
    "collapsed": true
   },
   "outputs": [],
   "source": []
  },
  {
   "cell_type": "markdown",
   "metadata": {},
   "source": [
    "## Q5: subplots\n",
    "\n",
    "matplotlib has a number of ways to create multiple axes in a figure -- look at `plt.subplot()` (http://matplotlib.org/api/pyplot_api.html#matplotlib.pyplot.subplot)\n",
    "\n",
    "Create an `x` array using NumPy with a number of points, spanning from $[0, 2\\pi]$.  \n",
    "\n",
    "Create 3 axes vertically, and do the following:\n",
    "\n",
    "* Define a new numpy array `f` initialized to a function of your choice.\n",
    "* Plot f in the top axes\n",
    "* Compute a numerical derivative of `f`,\n",
    "   $$ f' = \\frac{f_{i+1} - f_i}{\\Delta x}$$\n",
    "  and plot this in the middle axes\n",
    "* Do this again, this time on $f'$ to compute the second derivative and plot that in the bottom axes\n"
   ]
  },
  {
   "cell_type": "code",
   "execution_count": null,
   "metadata": {},
   "outputs": [],
   "source": []
  },
  {
   "cell_type": "markdown",
   "metadata": {},
   "source": [
    "## Q7: Double Star Orbital Plot\n",
    "\n",
    "Use the data file of Sirius AB observation from Bosscha Observatory `sirius.csv`.\n",
    "\n",
    "There are 3 columns here: the year (epoch), angular separation $\\rho$, and position angle $\\theta$.  \n",
    "\n",
    "* Plot orbit of Sirius on a polar coordinate\n",
    "\n",
    "```ax = plt.subplot(111, projection='polar')```\n",
    "\n",
    "Given orbital elements: $P = 50.1284$ years, $T = 1994.5715$, $a = 7.4957$ arcsec, $e = 0.59142$, $i = 136.336$ deg, $\\Omega = 45.4$ deg, $\\omega = 149.161$ deg\n",
    "* Compute $\\rho$ and $\\theta$ from year 1900 to 1950 and plot the results\n",
    "* Extra point if you can plot the error of observation data from the model\n",
    "\n",
    "Example:\n",
    "\n",
    "<img src=\"06408S1635 AGC 1 5423.0 AB Sirio.svg\">\n",
    "\n",
    "### Hint: Ephemeris Formulae\n",
    "For any time $t$, the coordinates $θ$, $ρ$ or $x$, $y$ are computed from the elements by means of the following formulae. The auxiliary circle has radius $a$. \n",
    "The angle $E$ is called the eccentric anomaly and has to be determined from the mean anomaly $M$:\n",
    "\n",
    "$\\mu(t-T) = M = E- \\sin E$ (Kepler's Equation)\n",
    "\n",
    "This equation is transcendental, i.e. it is not algebraic and has to be solved iteratively. A first approximation is given by the formula:\n",
    "\n",
    "$E_0 = M + e \\sin M + \\frac{e^2}{M} \\sin2M$\n",
    "\n",
    "This new $E_0$ is used to calculate a new $M_0$:\n",
    "\n",
    "$M_0 = E_0 – e \\sin E_0$\n",
    "\n",
    "A new $E_1$ is obtained from $M$, $M_0$ and $E_0$:\n",
    "\n",
    "$E_1 = E_0 + \\frac{M-M_0}{1-e \\cos E_0}$\n",
    "\n",
    "The last two formulae are iterated to the desired accuracy. Four iterations are sufficient for e ≤ 0.95. Now the desired positions are calculated.\n",
    "Polar coordinates:\n",
    "\n",
    "$\\tan \\frac{v}{2} = \\sqrt{\\frac{1+e}{1-e}} \\tan \\frac{E}{2}$\n",
    "\n",
    "$r = \\frac{a(1-e^2)}{1+e \\cos v}$\n",
    "\n",
    "$\\tan(\\theta - \\Omega) = \\tan (v + \\omega) \\cos i$\n",
    "\n",
    "$\\rho = r \\cos (v + \\omega) \\sec(\\theta-\\Omega)$"
   ]
  },
  {
   "cell_type": "code",
   "execution_count": null,
   "metadata": {
    "collapsed": true
   },
   "outputs": [],
   "source": []
  }
 ],
 "metadata": {
  "kernelspec": {
   "display_name": "Python 3",
   "language": "python",
   "name": "python3"
  },
  "language_info": {
   "codemirror_mode": {
    "name": "ipython",
    "version": 3
   },
   "file_extension": ".py",
   "mimetype": "text/x-python",
   "name": "python",
   "nbconvert_exporter": "python",
   "pygments_lexer": "ipython3",
   "version": "3.7.2"
  }
 },
 "nbformat": 4,
 "nbformat_minor": 2
}
