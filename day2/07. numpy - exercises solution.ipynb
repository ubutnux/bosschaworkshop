{
 "cells": [
  {
   "cell_type": "markdown",
   "metadata": {},
   "source": [
    "# NumPy exercises"
   ]
  },
  {
   "cell_type": "code",
   "execution_count": 2,
   "metadata": {},
   "outputs": [],
   "source": [
    "import numpy as np"
   ]
  },
  {
   "cell_type": "markdown",
   "metadata": {},
   "source": [
    "## Q1\n",
    "\n",
    "We can use `np.random.random_sample()` to create an array with random values.  By default, these will be in the range `[0.0, 1.0)`.  You can\n",
    "multiple the output and add a scalar to it to get it to be in a different range.\n",
    "\n",
    "Create a 10 x 10 array initialized with random numbers that lie between 0 and 10.\n",
    "\n",
    "Then compute the average of the array (there is a numpy function for this, `np.mean()`)."
   ]
  },
  {
   "cell_type": "code",
   "execution_count": 8,
   "metadata": {},
   "outputs": [
    {
     "data": {
      "text/plain": [
       "4.9414552653724275"
      ]
     },
     "execution_count": 8,
     "metadata": {},
     "output_type": "execute_result"
    }
   ],
   "source": [
    "a = np.random.random_sample((10,10)) * 10\n",
    "np.mean(a)"
   ]
  },
  {
   "cell_type": "markdown",
   "metadata": {},
   "source": [
    "## Q2\n",
    "\n",
    "Create the array: \n",
    "```\n",
    "[[1,  6, 11],\n",
    " [2,  7, 12],\n",
    " [3,  8, 13],\n",
    " [4,  9, 14],\n",
    " [5, 10, 15]]\n",
    "```\n",
    "with out explicitly typing it in.\n",
    "\n",
    "Now create a new array containing only its 2nd and 4th rows."
   ]
  },
  {
   "cell_type": "code",
   "execution_count": 31,
   "metadata": {},
   "outputs": [
    {
     "name": "stdout",
     "output_type": "stream",
     "text": [
      "[[ 1  6 11]\n",
      " [ 2  7 12]\n",
      " [ 3  8 13]\n",
      " [ 4  9 14]\n",
      " [ 5 10 15]]\n"
     ]
    },
    {
     "data": {
      "text/plain": [
       "array([[ 2,  7, 12],\n",
       "       [ 4,  9, 14]])"
      ]
     },
     "execution_count": 31,
     "metadata": {},
     "output_type": "execute_result"
    }
   ],
   "source": [
    "a = np.arange(1, 16).reshape(3,5)\n",
    "a = np.transpose(a)\n",
    "print(a)\n",
    "\n",
    "b = a[[1,3]]\n",
    "b"
   ]
  },
  {
   "cell_type": "markdown",
   "metadata": {},
   "source": [
    "## Q3\n",
    "\n",
    "Create a 2d array with `1` on the border and `0` on the inside, e.g., like:\n",
    "```\n",
    "1 1 1 1 1\n",
    "1 0 0 0 1\n",
    "1 0 0 0 1\n",
    "1 1 1 1 1\n",
    "```\n",
    "\n",
    "Do this using array slice notation to let it work for an arbitrary-sized array"
   ]
  },
  {
   "cell_type": "code",
   "execution_count": 39,
   "metadata": {},
   "outputs": [
    {
     "data": {
      "text/plain": [
       "array([[ 1.,  1.,  1.,  1.],\n",
       "       [ 1.,  0.,  0.,  1.],\n",
       "       [ 1.,  0.,  0.,  1.],\n",
       "       [ 1.,  1.,  1.,  1.]])"
      ]
     },
     "execution_count": 39,
     "metadata": {},
     "output_type": "execute_result"
    }
   ],
   "source": [
    "a = np.ones((4,4))\n",
    "a\n",
    "\n",
    "b = a[1:3, 1:3]\n",
    "b[:] = 0\n",
    "a"
   ]
  },
  {
   "cell_type": "markdown",
   "metadata": {},
   "source": [
    "## Q4\n",
    "\n",
    "  * Create an array with angles in degrees 0, 15, 30, ... 90 (i.e., every 15 degrees up to 90).\n",
    "\n",
    "  * Now create 3 new arrays with the sine, cosine, and tangent of the elements of the first array\n",
    "  \n",
    "  * Finally, calculate the inverse sine, inverse cosine, and inverse tangent the arrays above and compare to the original angles"
   ]
  },
  {
   "cell_type": "code",
   "execution_count": 59,
   "metadata": {},
   "outputs": [
    {
     "name": "stdout",
     "output_type": "stream",
     "text": [
      "[  0.  15.  30.  45.  60.  75.  90.]\n",
      "[  0.  15.  30.  45.  60.  75.  90.]\n",
      "[  0.  15.  30.  45.  60.  75.  90.]\n"
     ]
    }
   ],
   "source": [
    "a = np.linspace(0, 90, 7)\n",
    "s = np.sin(np.deg2rad(a))\n",
    "c = np.cos(np.deg2rad(a))\n",
    "t = np.tan(np.deg2rad(a))\n",
    "\n",
    "arcs = np.rad2deg(np.arcsin(s))\n",
    "arcc = np.rad2deg(np.arccos(c))\n",
    "arct = np.rad2deg(np.arctan(t))\n",
    "\n",
    "print(arcs)\n",
    "print(arcc)\n",
    "print(arct)"
   ]
  },
  {
   "cell_type": "markdown",
   "metadata": {},
   "source": [
    "## Q5\n",
    "\n",
    "Given the array:\n",
    "```\n",
    "x = np.array([1, -1, 2, 5, 8, 4, 10, 12, 3])\n",
    "```\n",
    "calculate the difference of each element with its neighbor."
   ]
  },
  {
   "cell_type": "code",
   "execution_count": 4,
   "metadata": {},
   "outputs": [
    {
     "name": "stdout",
     "output_type": "stream",
     "text": [
      "[-1  2  5  8  4 10 12  3]\n",
      "[-2  3  3  3 -4  6  2 -9]\n",
      "[-2  3  3  3 -4  6  2 -9]\n"
     ]
    }
   ],
   "source": [
    "x = np.array([1, -1, 2, 5, 8, 4, 10, 12, 3])\n",
    "print(x[1:])\n",
    "y = x[1:] - x[:-1]\n",
    "print(y)\n",
    "z = np.diff(x)\n",
    "print(z)"
   ]
  },
  {
   "cell_type": "code",
   "execution_count": 5,
   "metadata": {},
   "outputs": [
    {
     "data": {
      "text/plain": [
       "array([-1,  2,  5,  8,  4, 10, 12,  3])"
      ]
     },
     "execution_count": 5,
     "metadata": {},
     "output_type": "execute_result"
    }
   ],
   "source": [
    "x[1:]"
   ]
  },
  {
   "cell_type": "code",
   "execution_count": 6,
   "metadata": {},
   "outputs": [
    {
     "data": {
      "text/plain": [
       "array([ 1, -1,  2,  5,  8,  4, 10, 12])"
      ]
     },
     "execution_count": 6,
     "metadata": {},
     "output_type": "execute_result"
    }
   ],
   "source": [
    "x[:-1]"
   ]
  },
  {
   "cell_type": "markdown",
   "metadata": {},
   "source": [
    "## Q6\n",
    "\n",
    "Here we will read in columns of numbers from a file and create a histogram, using NumPy routines.  Make sure you have the data file\n",
    "\"`sample.txt`\" in the same directory as this notebook\n",
    "\n",
    "  * Use `np.loadtxt()` to read this file in.  \n",
    "\n",
    "  * Next, use `np.histogram()` to create a histogram array.  The output returns both the count and an array of edges.\n",
    "  \n",
    "  * Finally, loop over the bins and print out the bin center (averaging the left and right edges of the bin) and the count for that bin."
   ]
  },
  {
   "cell_type": "code",
   "execution_count": 3,
   "metadata": {},
   "outputs": [],
   "source": [
    "data = np.loadtxt('day2/sample.txt')"
   ]
  },
  {
   "cell_type": "code",
   "execution_count": 5,
   "metadata": {},
   "outputs": [
    {
     "data": {
      "text/plain": [
       "array([[ 0.        , -4.75677275],\n",
       "       [ 1.        ,  6.88953354],\n",
       "       [ 2.        ,  8.99689609],\n",
       "       [ 3.        , -1.74610171],\n",
       "       [ 4.        ,  1.03044029]])"
      ]
     },
     "execution_count": 5,
     "metadata": {},
     "output_type": "execute_result"
    }
   ],
   "source": [
    "data[0:5]"
   ]
  },
  {
   "cell_type": "code",
   "execution_count": 24,
   "metadata": {},
   "outputs": [
    {
     "data": {
      "text/plain": [
       "array([  0.,   1.,   2.,   3.,   4.,   5.,   6.,   7.,   8.,   9.,  10.,\n",
       "        11.,  12.,  13.,  14.,  15.,  16.,  17.,  18.,  19.,  20.,  21.,\n",
       "        22.,  23.,  24.,  25.,  26.,  27.,  28.,  29.,  30.,  31.,  32.,\n",
       "        33.,  34.,  35.,  36.,  37.,  38.,  39.,  40.,  41.,  42.,  43.,\n",
       "        44.,  45.,  46.,  47.,  48.,  49.,  50.,  51.,  52.,  53.,  54.,\n",
       "        55.,  56.,  57.,  58.,  59.,  60.,  61.,  62.,  63.,  64.,  65.,\n",
       "        66.,  67.,  68.,  69.,  70.,  71.,  72.,  73.,  74.,  75.,  76.,\n",
       "        77.,  78.,  79.,  80.,  81.,  82.,  83.,  84.,  85.,  86.,  87.,\n",
       "        88.,  89.,  90.,  91.,  92.,  93.,  94.,  95.,  96.,  97.,  98.,\n",
       "        99.])"
      ]
     },
     "execution_count": 24,
     "metadata": {},
     "output_type": "execute_result"
    }
   ],
   "source": [
    "data[:,0]"
   ]
  },
  {
   "cell_type": "code",
   "execution_count": 29,
   "metadata": {},
   "outputs": [],
   "source": [
    "hist = np.histogram(data[:,1])"
   ]
  },
  {
   "cell_type": "code",
   "execution_count": 30,
   "metadata": {},
   "outputs": [
    {
     "data": {
      "text/plain": [
       "(array([ 3,  4,  9, 22, 22, 22,  9,  7,  1,  1], dtype=int64),\n",
       " array([-30.58842789, -23.67009726, -16.75176662,  -9.83343599,\n",
       "         -2.91510536,   4.00322527,  10.9215559 ,  17.83988653,\n",
       "         24.75821717,  31.6765478 ,  38.59487843]))"
      ]
     },
     "execution_count": 30,
     "metadata": {},
     "output_type": "execute_result"
    }
   ],
   "source": [
    "hist"
   ]
  },
  {
   "cell_type": "code",
   "execution_count": 33,
   "metadata": {},
   "outputs": [
    {
     "data": {
      "text/plain": [
       "array([-30.58842789, -23.67009726, -16.75176662,  -9.83343599,\n",
       "        -2.91510536,   4.00322527,  10.9215559 ,  17.83988653,\n",
       "        24.75821717,  31.6765478 ,  38.59487843])"
      ]
     },
     "execution_count": 33,
     "metadata": {},
     "output_type": "execute_result"
    }
   ],
   "source": [
    "hist[1]"
   ]
  },
  {
   "cell_type": "code",
   "execution_count": 36,
   "metadata": {},
   "outputs": [
    {
     "data": {
      "text/plain": [
       "array([-27.12926257, -20.21093194, -13.29260131,  -6.37427068,\n",
       "         0.54405995,   7.46239059,  14.38072122,  21.29905185,\n",
       "        28.21738248,  35.13571311])"
      ]
     },
     "execution_count": 36,
     "metadata": {},
     "output_type": "execute_result"
    }
   ],
   "source": [
    "c = (hist[1][:-1] + hist[1][1:])/2\n",
    "c"
   ]
  },
  {
   "cell_type": "code",
   "execution_count": 31,
   "metadata": {},
   "outputs": [
    {
     "data": {
      "text/plain": [
       "(array([  3.,   4.,   9.,  22.,  22.,  22.,   9.,   7.,   1.,   1.]),\n",
       " array([-30.58842789, -23.67009726, -16.75176662,  -9.83343599,\n",
       "         -2.91510536,   4.00322527,  10.9215559 ,  17.83988653,\n",
       "         24.75821717,  31.6765478 ,  38.59487843]),\n",
       " <a list of 10 Patch objects>)"
      ]
     },
     "execution_count": 31,
     "metadata": {},
     "output_type": "execute_result"
    },
    {
     "data": {
      "image/png": "[encoded data removed]",
      "text/plain": [
       "<matplotlib.figure.Figure at 0x25224be3b70>"
      ]
     },
     "metadata": {},
     "output_type": "display_data"
    }
   ],
   "source": [
    "from matplotlib import pyplot as plt\n",
    "%matplotlib inline\n",
    "\n",
    "plt.hist(data[:,1])"
   ]
  },
  {
   "cell_type": "code",
   "execution_count": 37,
   "metadata": {},
   "outputs": [
    {
     "data": {
      "text/plain": [
       "10"
      ]
     },
     "execution_count": 37,
     "metadata": {},
     "output_type": "execute_result"
    }
   ],
   "source": [
    "len(hist[0])"
   ]
  },
  {
   "cell_type": "markdown",
   "metadata": {},
   "source": [
    "## Q7\n",
    "\n",
    "NumPy has a standard deviation function, `np.std()`, but here we'll write our own that works on a 1-d array (vector).  The standard\n",
    "deviation is a measure of the \"width\" of the distribution of numbers\n",
    "in the vector.\n",
    "\n",
    "Given an array, $a$, and an average $\\bar{a}$, the standard deviation\n",
    "is:\n",
    "$$\n",
    "\\sigma = \\left [ \\frac{1}{N} \\sum_{i=1}^N (a_i - \\bar{a})^2 \\right ]^{1/2}\n",
    "$$\n",
    "\n",
    "Write a function to calculate the standard deviation for an input array, `a`:\n",
    "\n",
    "  * First compute the average of the elements in `a` to define $\\bar{a}$\n",
    "  * Next compute the sum over the squares of $a - \\bar{a}$\n",
    "  * Then divide the sum by the number of elements in the array\n",
    "  * Finally take the square root (you can use `np.sqrt()`)\n",
    "  \n",
    "Test your function on a random array, and compare to the built-in `np.std()`"
   ]
  },
  {
   "cell_type": "code",
   "execution_count": 7,
   "metadata": {},
   "outputs": [],
   "source": [
    "a = np.arange(100)"
   ]
  },
  {
   "cell_type": "code",
   "execution_count": 8,
   "metadata": {},
   "outputs": [],
   "source": [
    "avg = np.average(a)"
   ]
  },
  {
   "cell_type": "code",
   "execution_count": 9,
   "metadata": {},
   "outputs": [],
   "source": [
    "b = np.sum((a - avg)**2)"
   ]
  },
  {
   "cell_type": "code",
   "execution_count": 10,
   "metadata": {},
   "outputs": [],
   "source": [
    "c = b/len(a)"
   ]
  },
  {
   "cell_type": "code",
   "execution_count": 11,
   "metadata": {},
   "outputs": [],
   "source": [
    "d = np.sqrt(c)"
   ]
  },
  {
   "cell_type": "code",
   "execution_count": 46,
   "metadata": {},
   "outputs": [
    {
     "data": {
      "text/plain": [
       "28.866070047722118"
      ]
     },
     "execution_count": 46,
     "metadata": {},
     "output_type": "execute_result"
    }
   ],
   "source": [
    "d"
   ]
  },
  {
   "cell_type": "code",
   "execution_count": 12,
   "metadata": {},
   "outputs": [
    {
     "data": {
      "text/plain": [
       "28.86607004772212"
      ]
     },
     "execution_count": 12,
     "metadata": {},
     "output_type": "execute_result"
    }
   ],
   "source": [
    "np.std(a)"
   ]
  },
  {
   "cell_type": "code",
   "execution_count": null,
   "metadata": {
    "collapsed": true
   },
   "outputs": [],
   "source": []
  }
 ],
 "metadata": {
  "kernelspec": {
   "display_name": "Python 3",
   "language": "python",
   "name": "python3"
  },
  "language_info": {
   "codemirror_mode": {
    "name": "ipython",
    "version": 3
   },
   "file_extension": ".py",
   "mimetype": "text/x-python",
   "name": "python",
   "nbconvert_exporter": "python",
   "pygments_lexer": "ipython3",
   "version": "3.7.1"
  }
 },
 "nbformat": 4,
 "nbformat_minor": 2
}
