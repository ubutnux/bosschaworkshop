{
 "cells": [
  {
   "cell_type": "markdown",
   "metadata": {},
   "source": [
    "# EXTRAS"
   ]
  },
  {
   "cell_type": "markdown",
   "metadata": {},
   "source": [
    "# Interactivity"
   ]
  },
  {
   "cell_type": "markdown",
   "metadata": {},
   "source": [
    "matplotlib has it's own set of widgets that you can use, but recently, Jupyter / Ipython gained the interact() function\n",
    "(see http://ipywidgets.readthedocs.io/en/latest/examples/Using%20Interact.html )\n",
    "\n",
    "Note: something changed in mpl 2.0 that we now need a `plt.show()` here.  See:\n",
    "https://github.com/jupyter-widgets/ipywidgets/issues/1179"
   ]
  },
  {
   "cell_type": "code",
   "execution_count": null,
   "metadata": {},
   "outputs": [],
   "source": [
    "import matplotlib.pyplot as plt\n",
    "import numpy as np\n",
    "from ipywidgets import interact"
   ]
  },
  {
   "cell_type": "code",
   "execution_count": null,
   "metadata": {},
   "outputs": [],
   "source": [
    "plt.figure()\n",
    "x = np.linspace(0,1,100)\n",
    "def plotsin(f):\n",
    "    plt.plot(x, np.sin(2*np.pi*x*f))\n",
    "    plt.show()"
   ]
  },
  {
   "cell_type": "code",
   "execution_count": null,
   "metadata": {},
   "outputs": [],
   "source": [
    "interact(plotsin, f=(1,10,0.1))"
   ]
  },
  {
   "cell_type": "code",
   "execution_count": null,
   "metadata": {},
   "outputs": [],
   "source": [
    "# interactive histogram\n",
    "def hist(N, sigma):\n",
    "    r = sigma*np.random.randn(N)\n",
    "    plt.hist(r, normed=True, bins=20)\n",
    "\n",
    "    x = np.linspace(-5,5,200)\n",
    "    \n",
    "    plt.plot(x, np.exp(-x**2/(2*sigma**2))/(sigma*np.sqrt(2.0*np.pi)),\n",
    "             c=\"r\", lw=2)\n",
    "    plt.xlabel(\"x\")\n",
    "    plt.show()\n",
    "    \n",
    "interact(hist, N=(100,10000,10), sigma=(0.5,5,0.1))"
   ]
  },
  {
   "cell_type": "markdown",
   "metadata": {},
   "source": [
    "# Final fun"
   ]
  },
  {
   "cell_type": "markdown",
   "metadata": {},
   "source": [
    "if you want to make things look hand-drawn in the style of xkcd, rerun these examples after doing\n",
    "plt.xkcd()"
   ]
  },
  {
   "cell_type": "code",
   "execution_count": null,
   "metadata": {},
   "outputs": [],
   "source": [
    "plt.xkcd()"
   ]
  },
  {
   "cell_type": "code",
   "execution_count": null,
   "metadata": {},
   "outputs": [],
   "source": []
  }
 ],
 "metadata": {
  "kernelspec": {
   "display_name": "Python 3",
   "language": "python",
   "name": "python3"
  },
  "language_info": {
   "codemirror_mode": {
    "name": "ipython",
    "version": 3
   },
   "file_extension": ".py",
   "mimetype": "text/x-python",
   "name": "python",
   "nbconvert_exporter": "python",
   "pygments_lexer": "ipython3",
   "version": "3.7.2"
  }
 },
 "nbformat": 4,
 "nbformat_minor": 2
}
