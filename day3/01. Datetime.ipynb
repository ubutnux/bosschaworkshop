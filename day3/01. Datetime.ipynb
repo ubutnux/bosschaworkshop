{
 "cells": [
  {
   "cell_type": "markdown",
   "metadata": {},
   "source": [
    "# Python DateTime, TimeDelta, Strftime(Format)"
   ]
  },
  {
   "cell_type": "markdown",
   "metadata": {},
   "source": [
    "In Python, `date`, `time` and `datetime` classes provides a number of function to deal with dates, times and time intervals. Date and datetime are an object in Python, so when you manipulate them, you are actually manipulating objects and not string or timestamps. Whenever you manipulate dates or time, you need to import datetime function.\n",
    "\n",
    "The datetime classes in Python are categorized into main 5 classes.\n",
    "\n",
    "* date – Manipulate just date ( Month, day, year)\n",
    "* time – Time independent of the day (Hour, minute, second, microsecond)\n",
    "* datetime – Combination of time and date (Month, day, year, hour, second, microsecond)\n",
    "* timedelta— A duration of time used for manipulating dates\n",
    "* tzinfo— An abstract class for dealing with time zones"
   ]
  },
  {
   "cell_type": "markdown",
   "metadata": {},
   "source": [
    "## Date"
   ]
  },
  {
   "cell_type": "code",
   "execution_count": null,
   "metadata": {},
   "outputs": [],
   "source": [
    "from datetime import date\n",
    "x = date(1993, 12, 14)\n",
    "print(x)"
   ]
  },
  {
   "cell_type": "markdown",
   "metadata": {},
   "source": [
    "We can instantiate dates in the range from January 1, 1 to December 31, 9999. This can be inquired from the attributes min and max:"
   ]
  },
  {
   "cell_type": "code",
   "execution_count": null,
   "metadata": {},
   "outputs": [],
   "source": [
    "print(date.min)\n",
    "print(date.max)"
   ]
  },
  {
   "cell_type": "markdown",
   "metadata": {},
   "source": [
    "If you want to know the weekday of a certain date, you can calculate it by using the method weekday:\n",
    "\n"
   ]
  },
  {
   "cell_type": "code",
   "execution_count": null,
   "metadata": {},
   "outputs": [],
   "source": [
    "x.weekday()"
   ]
  },
  {
   "cell_type": "code",
   "execution_count": null,
   "metadata": {},
   "outputs": [],
   "source": [
    "date.today()"
   ]
  },
  {
   "cell_type": "markdown",
   "metadata": {},
   "source": [
    "We can access the day, month and year with attributes:"
   ]
  },
  {
   "cell_type": "code",
   "execution_count": null,
   "metadata": {},
   "outputs": [],
   "source": [
    "print(x.day)\n",
    "print(x.month)\n",
    "print(x.year)"
   ]
  },
  {
   "cell_type": "markdown",
   "metadata": {},
   "source": [
    "## Time\n",
    "The time class is similarly organized than the date class."
   ]
  },
  {
   "cell_type": "code",
   "execution_count": null,
   "metadata": {},
   "outputs": [],
   "source": [
    "from datetime import time\n",
    "t = time(15, 6, 23)\n",
    "print(t)"
   ]
  },
  {
   "cell_type": "markdown",
   "metadata": {},
   "source": [
    "The possible times range between:"
   ]
  },
  {
   "cell_type": "code",
   "execution_count": null,
   "metadata": {},
   "outputs": [],
   "source": [
    "print(time.min)\n",
    "print(time.max)"
   ]
  },
  {
   "cell_type": "markdown",
   "metadata": {},
   "source": [
    "Accessing 'hour', 'minute' and 'second':"
   ]
  },
  {
   "cell_type": "code",
   "execution_count": null,
   "metadata": {},
   "outputs": [],
   "source": [
    "t.hour, t.minute, t.second\n"
   ]
  },
  {
   "cell_type": "markdown",
   "metadata": {},
   "source": [
    "Each component of a time instance can be changed by using `replace`:\n",
    "\n"
   ]
  },
  {
   "cell_type": "code",
   "execution_count": null,
   "metadata": {},
   "outputs": [],
   "source": [
    "t = t.replace(hour=11, minute=59)\n",
    "t"
   ]
  },
  {
   "cell_type": "markdown",
   "metadata": {},
   "source": [
    "We can render a date as a C-style like string, corresponding to the C ctime function:\n",
    "\n"
   ]
  },
  {
   "cell_type": "code",
   "execution_count": null,
   "metadata": {},
   "outputs": [],
   "source": [
    "x.ctime()"
   ]
  },
  {
   "cell_type": "markdown",
   "metadata": {},
   "source": [
    "## Datetime"
   ]
  },
  {
   "cell_type": "markdown",
   "metadata": {},
   "source": [
    "The `datetime` module provides us with functions and methods for manipulating dates and times. It supplies functionalities for date and time arithmetic, i.e. addition and subtraction. Another focus of the implementation is on attribute extraction for output manipulation and formatting.\n",
    "\n",
    "There are two kinds of date and time objects:\n",
    "* naive\n",
    "* aware\n",
    "\n",
    "If a time or date object is naive it doesn't contain information to compare or locate itself relative to other date or time objects. The semantics, if such a naive object belongs to a certain time zone, e.g. Coordinated Universal Time (UTC), local time, or some other timezone is contained in the logic of the program.\n",
    "\n",
    "An aware object on the other hand possesses knowledge of the time zone it belongs to or the daylight saving time information. This way it can locate itself relative to other aware objects.\n",
    "\n",
    "How can you tell if a datetime object t is aware?\n",
    "\n",
    "`t` is aware if `t.tzinfo` is not `None` and `t.tzinfo.utcoffset(t)` is not `None`. Both conditions have to be fulfilled. On the other hand an object `t` is naive if `t.tzinfo` is `None` or `t.tzinfo.utcoffset(t)` is `None`"
   ]
  },
  {
   "cell_type": "code",
   "execution_count": null,
   "metadata": {},
   "outputs": [],
   "source": [
    "from datetime import datetime\n",
    "t = datetime(2017, 4, 19, 16, 31, 0)\n",
    "t"
   ]
  },
  {
   "cell_type": "markdown",
   "metadata": {},
   "source": [
    "`t` is naive, because the following is `True`:"
   ]
  },
  {
   "cell_type": "code",
   "execution_count": null,
   "metadata": {},
   "outputs": [],
   "source": [
    "t.tzinfo == None"
   ]
  },
  {
   "cell_type": "markdown",
   "metadata": {},
   "source": [
    "We will create an aware datetime object from the current date. For this purpose we need the module `pytz`. `pytz` is a module, which brings the Olson `tz` database into Python. The Olson timezones are nearly completely supported by this module."
   ]
  },
  {
   "cell_type": "code",
   "execution_count": null,
   "metadata": {},
   "outputs": [],
   "source": [
    "import pytz\n",
    "t = datetime.now(pytz.utc)"
   ]
  },
  {
   "cell_type": "markdown",
   "metadata": {},
   "source": [
    "We can see that both `t.tzinfo` and `t.tzinfo.utcoffset(t)` are different from `None`, so t is an aware object:\n",
    "\n"
   ]
  },
  {
   "cell_type": "code",
   "execution_count": null,
   "metadata": {},
   "outputs": [],
   "source": [
    "t.tzinfo, t.tzinfo.utcoffset(t)"
   ]
  },
  {
   "cell_type": "markdown",
   "metadata": {},
   "source": [
    "## Differences between Times"
   ]
  },
  {
   "cell_type": "code",
   "execution_count": null,
   "metadata": {},
   "outputs": [],
   "source": [
    "from datetime import timedelta\n",
    "ndays = 15\n",
    "start = datetime(1991, 4, 30)\n",
    "dates = [start - timedelta(days=x) for x in range(0, ndays)]\n",
    "dates"
   ]
  },
  {
   "cell_type": "markdown",
   "metadata": {},
   "source": [
    "Let's see what happens, if we subtract to datetime objects:"
   ]
  },
  {
   "cell_type": "code",
   "execution_count": null,
   "metadata": {},
   "outputs": [],
   "source": [
    "delta = datetime(1993, 12, 14) - datetime(1991, 4, 30)\n",
    "delta, type(delta)"
   ]
  },
  {
   "cell_type": "markdown",
   "metadata": {},
   "source": [
    "The result of the subtraction of the two datetime objects is a timedelta object, as we can see from the example above.\n",
    "\n",
    "We can get information about the number of days elapsed by using the attribute 'days':"
   ]
  },
  {
   "cell_type": "code",
   "execution_count": null,
   "metadata": {},
   "outputs": [],
   "source": [
    "delta.days"
   ]
  },
  {
   "cell_type": "code",
   "execution_count": null,
   "metadata": {},
   "outputs": [],
   "source": [
    "t1 = datetime(2017, 1, 31, 14, 17)\n",
    "t2 = datetime(2015, 12, 15, 16, 59)\n",
    "delta = t1 - t2\n",
    "delta.days, delta.seconds"
   ]
  },
  {
   "cell_type": "markdown",
   "metadata": {},
   "source": [
    "It is possible to add or subtract a timedelta to a datetime object to calculate a new datetime object by adding or subtracting the delta in days:\n",
    "\n"
   ]
  },
  {
   "cell_type": "code",
   "execution_count": null,
   "metadata": {},
   "outputs": [],
   "source": [
    "d1 = datetime(1991, 4, 30)\n",
    "d2 = d1 + timedelta(10)\n",
    "print(d2)\n",
    "print(d2 - d1)\n",
    "d3 = d1 - timedelta(100)\n",
    "print(d3)\n",
    "d4 = d1 - 2 * timedelta(50)\n",
    "print(d4)"
   ]
  },
  {
   "cell_type": "markdown",
   "metadata": {},
   "source": [
    "It is also possible to add days and minutes to t datetime object:\n"
   ]
  },
  {
   "cell_type": "code",
   "execution_count": null,
   "metadata": {},
   "outputs": [],
   "source": [
    "d1 = datetime(1991, 4, 30)\n",
    "d2 = d1 + timedelta(10,100)\n",
    "print(d2)\n",
    "print(d2 - d1)"
   ]
  },
  {
   "cell_type": "markdown",
   "metadata": {},
   "source": [
    "## Convert datetime Objects to Strings"
   ]
  },
  {
   "cell_type": "markdown",
   "metadata": {},
   "source": [
    "The easiest way to convert a datetime object into a string consists in using str.\n",
    "\n"
   ]
  },
  {
   "cell_type": "code",
   "execution_count": null,
   "metadata": {},
   "outputs": [],
   "source": [
    "s = str(d1)\n",
    "s"
   ]
  },
  {
   "cell_type": "markdown",
   "metadata": {},
   "source": [
    "The other is to call `datetime.strftime(format)` return a string representing the date and time, controlled by an explicit format string. A complete list of formatting directives can be found at [strftime](https://docs.python.org/3/library/datetime.html#strftime-strptime-behavior)\n",
    "\n"
   ]
  },
  {
   "cell_type": "code",
   "execution_count": null,
   "metadata": {},
   "outputs": [],
   "source": [
    "print(d1.strftime('%Y-%m-%d'))\n",
    "print(\"weekday: \" + d1.strftime('%a'))\n",
    "print(\"weekday as a full name: \" + d1.strftime('%A'))\n",
    "# Weekday as a decimal number, where 0 is Sunday \n",
    "# and 6 is Saturday\n",
    "print(\"weekday as a decimal number: \" + d1.strftime('%w'))"
   ]
  },
  {
   "cell_type": "markdown",
   "metadata": {},
   "source": [
    "Formatting months:\n",
    "\n"
   ]
  },
  {
   "cell_type": "code",
   "execution_count": null,
   "metadata": {},
   "outputs": [],
   "source": [
    "# Day of the month as a zero-padded decimal number. \n",
    "# 01, 02, ..., 31\n",
    "print(d1.strftime('%d'))\n",
    "# Month as locale’s abbreviated name. \n",
    "# Jan, Feb, ..., Dec (en_US); \n",
    "# Jan, Feb, ..., Dez (de_DE)\n",
    "print(d1.strftime('%b'))\n",
    "# Month as locale’s full name. \t\n",
    "# January, February, ..., December (en_US);\n",
    "# Januar, Februar, ..., Dezember (de_DE)\n",
    "print(d1.strftime('%B'))\n",
    "# Month as a zero-padded decimal number. \n",
    "# 01, 02, ..., 12\n",
    "print(d1.strftime('%m'))\n"
   ]
  },
  {
   "cell_type": "markdown",
   "metadata": {},
   "source": [
    "## Creating datetime Objects from Strings\n"
   ]
  },
  {
   "cell_type": "markdown",
   "metadata": {},
   "source": [
    "We can use `strptime` to create new datetime object by parsing a string containing a data and time. The arguments of `strptime` are the string to be parsed and a format specification.\n",
    "\n"
   ]
  },
  {
   "cell_type": "code",
   "execution_count": null,
   "metadata": {},
   "outputs": [],
   "source": [
    "t = datetime.strptime(\"30 Nov 00\", \"%d %b %y\")\n",
    "print(t)"
   ]
  },
  {
   "cell_type": "code",
   "execution_count": null,
   "metadata": {},
   "outputs": [],
   "source": [
    "dt = \"2007-03-04T21:08:12\"\n",
    "datetime.strptime( dt, \"%Y-%m-%dT%H:%M:%S\" )"
   ]
  },
  {
   "cell_type": "code",
   "execution_count": null,
   "metadata": {},
   "outputs": [],
   "source": [
    "dt = '12/24/1957 4:03:29 AM'\n",
    "dt = datetime.strptime(dt, '%m/%d/%Y %I:%M:%S %p')\n",
    "dt"
   ]
  },
  {
   "cell_type": "markdown",
   "metadata": {},
   "source": [
    "Though `datetime.strptime` is an easy way to parse a date with a known format, it can be quote complicated and cumbersome to write every time a new specification string for new date formats.\n",
    "\n",
    "Using the parse method from `dateutil.parser`:\n",
    "\n"
   ]
  },
  {
   "cell_type": "code",
   "execution_count": null,
   "metadata": {},
   "outputs": [],
   "source": [
    "from dateutil.parser import parse\n",
    "parse('2011-01-03')"
   ]
  },
  {
   "cell_type": "code",
   "execution_count": null,
   "metadata": {},
   "outputs": [],
   "source": [
    "parse('Wed Apr 12 20:29:53 CEST 2017')"
   ]
  },
  {
   "cell_type": "code",
   "execution_count": null,
   "metadata": {},
   "outputs": [],
   "source": []
  }
 ],
 "metadata": {
  "kernelspec": {
   "display_name": "Python 3",
   "language": "python",
   "name": "python3"
  },
  "language_info": {
   "codemirror_mode": {
    "name": "ipython",
    "version": 3
   },
   "file_extension": ".py",
   "mimetype": "text/x-python",
   "name": "python",
   "nbconvert_exporter": "python",
   "pygments_lexer": "ipython3",
   "version": "3.7.1"
  }
 },
 "nbformat": 4,
 "nbformat_minor": 2
}
